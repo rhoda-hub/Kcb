{
  "nbformat": 4,
  "nbformat_minor": 0,
  "metadata": {
    "colab": {
      "provenance": [],
      "authorship_tag": "ABX9TyNnBqA5VlRZwro9AjTQUEVC",
      "include_colab_link": true
    },
    "kernelspec": {
      "name": "python3",
      "display_name": "Python 3"
    },
    "language_info": {
      "name": "python"
    }
  },
  "cells": [
    {
      "cell_type": "markdown",
      "metadata": {
        "id": "view-in-github",
        "colab_type": "text"
      },
      "source": [
        "<a href=\"https://colab.research.google.com/github/rhoda-hub/Kcb/blob/main/Untitled5.ipynb\" target=\"_parent\"><img src=\"https://colab.research.google.com/assets/colab-badge.svg\" alt=\"Open In Colab\"/></a>"
      ]
    },
    {
      "cell_type": "code",
      "execution_count": null,
      "metadata": {
        "colab": {
          "base_uri": "https://localhost:8080/"
        },
        "id": "ZGRcDGFHaMmM",
        "outputId": "4f6d403b-8083-4c1c-e821-d3f529705a37"
      },
      "outputs": [
        {
          "output_type": "stream",
          "name": "stdout",
          "text": [
            "Requirement already satisfied: pandas in /usr/local/lib/python3.12/dist-packages (2.2.2)\n",
            "Requirement already satisfied: numpy>=1.26.0 in /usr/local/lib/python3.12/dist-packages (from pandas) (2.0.2)\n",
            "Requirement already satisfied: python-dateutil>=2.8.2 in /usr/local/lib/python3.12/dist-packages (from pandas) (2.9.0.post0)\n",
            "Requirement already satisfied: pytz>=2020.1 in /usr/local/lib/python3.12/dist-packages (from pandas) (2025.2)\n",
            "Requirement already satisfied: tzdata>=2022.7 in /usr/local/lib/python3.12/dist-packages (from pandas) (2025.2)\n",
            "Requirement already satisfied: six>=1.5 in /usr/local/lib/python3.12/dist-packages (from python-dateutil>=2.8.2->pandas) (1.17.0)\n",
            "Requirement already satisfied: numpy in /usr/local/lib/python3.12/dist-packages (2.0.2)\n"
          ]
        }
      ],
      "source": [
        "!pip install pandas\n",
        "!pip install numpy"
      ]
    },
    {
      "cell_type": "code",
      "source": [
        "#Import Pandas as pd\n",
        "#Import numpy as np\n",
        "#Sklearn.linear_model import linear regression\n",
        "#Sklearn.model_ selection import train_test_split, Grid search\n",
        "#Sklearn.ensemble import random forest regressor\n",
        "#Sklearn.matrix import mean_absolute_error\n",
        "#Import matplotlib.pyplot as plt\n",
        "#Import seaborne as sns\n",
        "#Import os"
      ],
      "metadata": {
        "id": "nWT3J5WXSwR7"
      },
      "execution_count": null,
      "outputs": []
    },
    {
      "cell_type": "code",
      "source": [
        "#From google.colab import drive\n",
        "#path to your file\n",
        "#file_path = ' content/drive/my drive/archive (1).zip'\n",
        "\n",
        "#Load into pandas\n",
        "#Df = pd.read_ cvs (file_path)\n",
        "#Print(df.head())"
      ],
      "metadata": {
        "id": "8P9okGsMTBzL"
      },
      "execution_count": null,
      "outputs": []
    },
    {
      "cell_type": "code",
      "source": [
        "#For dirname,_ ,filenames in os .walk ('archive (1).zip')\n",
        "#For filename in filenames:\n",
        "#Print ('os.path.join(dirname"
      ],
      "metadata": {
        "id": "KSIJV00bVNu5"
      },
      "execution_count": null,
      "outputs": []
    },
    {
      "cell_type": "code",
      "source": [],
      "metadata": {
        "id": "mb-SI5PSZMDl"
      },
      "execution_count": null,
      "outputs": []
    },
    {
      "cell_type": "code",
      "source": [
        "#Display the first rows of the dataset\n",
        "#Df.head()"
      ],
      "metadata": {
        "id": "wx_itqPyYWQO"
      },
      "execution_count": null,
      "outputs": []
    },
    {
      "cell_type": "code",
      "source": [
        "#first viewing of the dataset\n",
        "#Df.describe()"
      ],
      "metadata": {
        "id": "w1uIo54oZPh0"
      },
      "execution_count": null,
      "outputs": []
    },
    {
      "cell_type": "code",
      "source": [
        "#shape of the dataset\n",
        "#Df.describe()"
      ],
      "metadata": {
        "id": "9Ytt0bQ3Zkui"
      },
      "execution_count": null,
      "outputs": []
    },
    {
      "cell_type": "code",
      "source": [
        "#column Non-null count Dtype\n",
        "#Df.info"
      ],
      "metadata": {
        "id": "tkD-qavGZ3Mu"
      },
      "execution_count": null,
      "outputs": []
    },
    {
      "cell_type": "code",
      "source": [
        "#Identify duplicate grows\n",
        "#Duplicate _rows= df[df.duplicated(keep false)]\n",
        "#The number of duplicate rows\n",
        "#Print( #the number of duplicate_rows.shapes{0}\")"
      ],
      "metadata": {
        "id": "8kozrTdxbc4D"
      },
      "execution_count": null,
      "outputs": []
    },
    {
      "cell_type": "code",
      "source": [
        "#box plots for year\n",
        "#Plt.figure(figsize= (18,5))\n",
        "#Sns.boxplot(x = 'age' ,y = 'purchased amount (USD)'data= df, colour'green'\n",
        "#Plt.title('purchased amount distribution across age group')\n",
        "#Plt.xlebel('age')\n",
        "#Plt.ylebel('purchased amount')\n",
        "#Plt.xticks(rotation=45)\n",
        "#Plt.show()"
      ],
      "metadata": {
        "id": "9BSLXZhadpgW"
      },
      "execution_count": null,
      "outputs": []
    },
    {
      "cell_type": "code",
      "source": [
        "#count purchased items by size\n",
        "#Import matplotlib.pyplot as plt\n",
        "#Import seaborne as sns\n",
        "\n",
        "#Plt.figure(figsize=18,8)\n",
        "#ax =sns.countplot(x ='items purchased')\n",
        "#Plt.title('count items purchased by size')\n",
        "#Plt.xlebel('purchase items')\n",
        "#Plt.ylebel('count')\n",
        "#plt.legend(title= 'size',box_to_anchor=(1.05,1),loc=('upper left')\n",
        "#ax.set_xticklabels(ax.get_xticklabels(), rotation=45,ha='right')\n",
        "#Plt.tight_layoutt()\n",
        "#Plt.show()"
      ],
      "metadata": {
        "id": "KgSNOI65twMh"
      },
      "execution_count": null,
      "outputs": []
    },
    {
      "cell_type": "code",
      "source": [
        "#bar chat of the purchased items\n",
        "\n",
        "#plt.figure(figsize= ('18,6))\n",
        "#sns.countplot(data=DF,x= 'items purchased' order= df['items purchased'].value_counts() index, colour='orange')\n",
        "#Plt.xticks(rotation=45)\n",
        "#Plt.title('distribution of purchased items')\n",
        "#Plt.xlabel('purchased items')\n",
        "#Plt.ylabel('count')\n",
        "#Plt.show()"
      ],
      "metadata": {
        "id": "6C-_9jR73-I6"
      },
      "execution_count": null,
      "outputs": []
    },
    {
      "cell_type": "code",
      "source": [
        "\n",
        "\n",
        "#Overall gender distribution\n",
        "#gender_counts_all=df['gender']\n",
        "\n",
        "#Plt.figure(figsize=(18,6))\n",
        "#Plt.pie(gender_counts_all,lebels= gender_counts_all\n",
        "#Plt.title(distribution comm\n",
        "#Plt.axis('equal')#\n",
        "#Plt.show()"
      ],
      "metadata": {
        "id": "mov4jOVI9MOJ"
      },
      "execution_count": null,
      "outputs": []
    },
    {
      "cell_type": "code",
      "source": [
        "#Melt data to have variables\n",
        "#Data= pd.melt(df.id_vars= '\n",
        "\n",
        "#Create\n",
        "#Plt.figure( figsize,(18,6)\n",
        "#Sns.boxplot(data=data,x='variable',y='value')\n",
        "#Plt.title('gender analysis')\n",
        "#Plt.xlabel('variables')\n",
        "#Plt.ylable('values')\n",
        "#Plt.legend(title='Gender',lock='upper right'\n",
        "#Plt.show()"
      ],
      "metadata": {
        "id": "cz0-mlHKqHW7"
      },
      "execution_count": 1,
      "outputs": []
    },
    {
      "cell_type": "markdown",
      "source": [
        "#Regional functions"
      ],
      "metadata": {
        "id": "N7r33UyZ7Id3"
      }
    },
    {
      "cell_type": "code",
      "source": [
        "def.print_dx_perc(data frame,col1)\n",
        "If col in data frame:\n",
        "Uni_target=data_frame {col1}. value counts\n",
        "Df_len= len('data frame\n",
        "For idx,count in uni_target.uteritems()\n",
        "Perc= round (count/ def_ len)*100, ndigits=2)\n",
        "Print('f{dx}/ df_len accounts for (perc)% of the {col} culumn _ equal to(count) occurrence on{df_len}')\n",
        "\n",
        "Else:\n",
        "Print(f'column{col}is not in data frame')\n",
        "Def variables_importance(fit)"
      ],
      "metadata": {
        "id": "ZsKEij5G-Iok"
      },
      "execution_count": null,
      "outputs": []
    },
    {
      "cell_type": "code",
      "source": [
        "#model evaluation\n",
        "Mae= mean_absolute_error(y_\n",
        "Feature importance = valuables\n",
        "Print_val_importances(feature"
      ],
      "metadata": {
        "id": "paXF9H0GGCx0"
      },
      "execution_count": null,
      "outputs": []
    }
  ]
}